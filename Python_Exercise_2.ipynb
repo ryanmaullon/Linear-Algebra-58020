{
  "nbformat": 4,
  "nbformat_minor": 0,
  "metadata": {
    "colab": {
      "name": "Python Exercise 2",
      "provenance": [],
      "collapsed_sections": [],
      "authorship_tag": "ABX9TyPPt71zMeFP8nqJjca+kRPq",
      "include_colab_link": true
    },
    "kernelspec": {
      "name": "python3",
      "display_name": "Python 3"
    },
    "language_info": {
      "name": "python"
    }
  },
  "cells": [
    {
      "cell_type": "markdown",
      "metadata": {
        "id": "view-in-github",
        "colab_type": "text"
      },
      "source": [
        "<a href=\"https://colab.research.google.com/github/ryanmaullon/Linear-Algebra-58020/blob/main/Python_Exercise_2.ipynb\" target=\"_parent\"><img src=\"https://colab.research.google.com/assets/colab-badge.svg\" alt=\"Open In Colab\"/></a>"
      ]
    },
    {
      "cell_type": "markdown",
      "metadata": {
        "id": "vMGJJNjo5Zqp"
      },
      "source": [
        "#Vector Spaces and its Operations"
      ]
    },
    {
      "cell_type": "code",
      "metadata": {
        "colab": {
          "base_uri": "https://localhost:8080/"
        },
        "id": "mh4wnkKH5jIL",
        "outputId": "a7580c3e-113f-4487-de90-51bb52eb3e4b"
      },
      "source": [
        "import numpy as np\n",
        "A = np.array([4, 3])\n",
        "B = np.array([2, -5])\n",
        "\n",
        "print('Vector A is', A)\n",
        "print('Vector A is', B)"
      ],
      "execution_count": 2,
      "outputs": [
        {
          "output_type": "stream",
          "name": "stdout",
          "text": [
            "Vector A is [4 3]\n",
            "Vector A is [ 2 -5]\n"
          ]
        }
      ]
    },
    {
      "cell_type": "code",
      "metadata": {
        "colab": {
          "base_uri": "https://localhost:8080/"
        },
        "id": "_KeY4NBG6OtQ",
        "outputId": "42f05d97-c8e7-466c-ed34-633eb25ca29e"
      },
      "source": [
        "#Checking shapes\n",
        "ball1 = np.array([1,2,3])\n",
        "ball2 = np.array([0,1,-1])\n",
        "pool = np.array([ball1,ball2])\n",
        "pool.shape\n",
        "pool.size"
      ],
      "execution_count": 7,
      "outputs": [
        {
          "output_type": "execute_result",
          "data": {
            "text/plain": [
              "6"
            ]
          },
          "metadata": {},
          "execution_count": 7
        }
      ]
    },
    {
      "cell_type": "markdown",
      "metadata": {
        "id": "qdM4zVLAE6wF"
      },
      "source": [
        "#Vector Addition"
      ]
    },
    {
      "cell_type": "code",
      "metadata": {
        "colab": {
          "base_uri": "https://localhost:8080/"
        },
        "id": "SLMHdAAh_IwJ",
        "outputId": "7b3754ee-52a0-4a74-c2fa-5fdf034c69ce"
      },
      "source": [
        "R = np.add(A,B)\n",
        "R"
      ],
      "execution_count": 10,
      "outputs": [
        {
          "output_type": "execute_result",
          "data": {
            "text/plain": [
              "array([ 6, -2])"
            ]
          },
          "metadata": {},
          "execution_count": 10
        }
      ]
    },
    {
      "cell_type": "code",
      "metadata": {
        "colab": {
          "base_uri": "https://localhost:8080/"
        },
        "id": "1RcNIv7h_EZR",
        "outputId": "a6918089-403c-4aea-fadd-87100313c145"
      },
      "source": [
        "R = (A + B)\n",
        "print(R)"
      ],
      "execution_count": 8,
      "outputs": [
        {
          "output_type": "stream",
          "name": "stdout",
          "text": [
            "[ 6 -2]\n"
          ]
        }
      ]
    },
    {
      "cell_type": "markdown",
      "metadata": {
        "id": "Paj529i1Ax-G"
      },
      "source": [
        "#Vector Subtraction"
      ]
    },
    {
      "cell_type": "code",
      "metadata": {
        "colab": {
          "base_uri": "https://localhost:8080/"
        },
        "id": "OZ5pTvcOA0Lg",
        "outputId": "30ea48e2-d686-43cc-e932-78a156c706cd"
      },
      "source": [
        "R = np.subtract(A,B)\n",
        "R"
      ],
      "execution_count": 11,
      "outputs": [
        {
          "output_type": "execute_result",
          "data": {
            "text/plain": [
              "array([2, 8])"
            ]
          },
          "metadata": {},
          "execution_count": 11
        }
      ]
    },
    {
      "cell_type": "markdown",
      "metadata": {
        "id": "ma3XbUzXBHEe"
      },
      "source": [
        "#Vector Scaling"
      ]
    },
    {
      "cell_type": "code",
      "metadata": {
        "colab": {
          "base_uri": "https://localhost:8080/"
        },
        "id": "v_sLr0z1BIN1",
        "outputId": "dbde17d0-4faf-4aa1-8a6e-958e0d761f91"
      },
      "source": [
        "A = np.array([1,5,8,9])\n",
        "S = 5 * A\n",
        "print(S)"
      ],
      "execution_count": 13,
      "outputs": [
        {
          "output_type": "stream",
          "name": "stdout",
          "text": [
            "[ 5 25 40 45]\n"
          ]
        }
      ]
    },
    {
      "cell_type": "code",
      "metadata": {
        "colab": {
          "base_uri": "https://localhost:8080/"
        },
        "id": "hQGvs5maBZFC",
        "outputId": "ec642075-da21-444e-84ba-a90e04fa0902"
      },
      "source": [
        "S = np.multiply(5,A)\n",
        "print(S)"
      ],
      "execution_count": 15,
      "outputs": [
        {
          "output_type": "stream",
          "name": "stdout",
          "text": [
            "[ 5 25 40 45]\n"
          ]
        }
      ]
    },
    {
      "cell_type": "code",
      "metadata": {
        "colab": {
          "base_uri": "https://localhost:8080/"
        },
        "id": "RlpFzAraCQKk",
        "outputId": "21b076eb-59b7-4ec3-8846-2bc44f0f1482"
      },
      "source": [
        "A = np.array([2,3,4])\n",
        "B = np.array([1,7,0])\n",
        "\n",
        "#compute cross product\n",
        "output = np.cross(A,B)\n",
        "\n",
        "print(output)"
      ],
      "execution_count": 18,
      "outputs": [
        {
          "output_type": "stream",
          "name": "stdout",
          "text": [
            "[-28   4  11]\n"
          ]
        }
      ]
    }
  ]
}