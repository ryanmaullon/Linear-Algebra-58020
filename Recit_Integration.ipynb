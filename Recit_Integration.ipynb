{
  "nbformat": 4,
  "nbformat_minor": 0,
  "metadata": {
    "colab": {
      "name": "Recit Integration.ipynb",
      "provenance": [],
      "authorship_tag": "ABX9TyM8YT2VTCGKiS79kw+I0rEZ",
      "include_colab_link": true
    },
    "kernelspec": {
      "name": "python3",
      "display_name": "Python 3"
    },
    "language_info": {
      "name": "python"
    }
  },
  "cells": [
    {
      "cell_type": "markdown",
      "metadata": {
        "id": "view-in-github",
        "colab_type": "text"
      },
      "source": [
        "<a href=\"https://colab.research.google.com/github/ryanmaullon/Linear-Algebra-58020/blob/main/Recit_Integration.ipynb\" target=\"_parent\"><img src=\"https://colab.research.google.com/assets/colab-badge.svg\" alt=\"Open In Colab\"/></a>"
      ]
    },
    {
      "cell_type": "markdown",
      "source": [
        "##Integrate ∫(0)(0.6)  sin(3x)dx"
      ],
      "metadata": {
        "id": "4YsjfNzuD3Js"
      }
    },
    {
      "cell_type": "code",
      "source": [
        "from scipy.integrate import quad\n",
        "from numpy import sin\n",
        "result = quad(lambda x: sin(3 * x), 0, 0.6)\n",
        "print(result)\n",
        "print('Integral ≈ ', result[0])\n"
      ],
      "metadata": {
        "colab": {
          "base_uri": "https://localhost:8080/"
        },
        "id": "b15_1iKg91Ws",
        "outputId": "21152100-4035-48df-ca52-26a77afc1013"
      },
      "execution_count": 6,
      "outputs": [
        {
          "output_type": "stream",
          "name": "stdout",
          "text": [
            "(0.40906736489769563, 4.5415600713216224e-15)\n",
            "Integral ≈  0.40906736489769563\n"
          ]
        }
      ]
    }
  ]
}