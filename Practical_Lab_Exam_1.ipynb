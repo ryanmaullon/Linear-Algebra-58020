{
  "nbformat": 4,
  "nbformat_minor": 0,
  "metadata": {
    "colab": {
      "name": " Practical Lab Exam 1.ipynb",
      "provenance": [],
      "collapsed_sections": [],
      "authorship_tag": "ABX9TyNqw4fFaEHOc7Sb91Ogd7d9",
      "include_colab_link": true
    },
    "kernelspec": {
      "name": "python3",
      "display_name": "Python 3"
    },
    "language_info": {
      "name": "python"
    }
  },
  "cells": [
    {
      "cell_type": "markdown",
      "metadata": {
        "id": "view-in-github",
        "colab_type": "text"
      },
      "source": [
        "<a href=\"https://colab.research.google.com/github/ryanmaullon/Linear-Algebra-58020/blob/main/Practical_Lab_Exam_1.ipynb\" target=\"_parent\"><img src=\"https://colab.research.google.com/assets/colab-badge.svg\" alt=\"Open In Colab\"/></a>"
      ]
    },
    {
      "cell_type": "markdown",
      "metadata": {
        "id": "CUyPo4t0_YW1"
      },
      "source": [
        "#Practical Lab Exam 1"
      ]
    },
    {
      "cell_type": "code",
      "metadata": {
        "id": "M7j3wgMw_Uwx"
      },
      "source": [
        "import numpy as np\n",
        "\n",
        "#Given Matrices\n",
        "W = np.array ([[1,-3],[2,-2],[3,1]])\n",
        "X = np.array ([[3,2,1],[-1,2,3],[2,-1,1]])\n",
        "Y = np.array ([[1,2,0],[0,-1,2]])\n",
        "Z = np.array ([[0,1],[2,3]])"
      ],
      "execution_count": null,
      "outputs": []
    },
    {
      "cell_type": "markdown",
      "metadata": {
        "id": "HHMTrGINE649"
      },
      "source": [
        "#PROBLEM 1 "
      ]
    },
    {
      "cell_type": "code",
      "metadata": {
        "colab": {
          "base_uri": "https://localhost:8080/"
        },
        "id": "GIjbfugDEJFf",
        "outputId": "f1ecad1f-bef8-4618-8eba-be4ef3c02217"
      },
      "source": [
        "#a. WY\n",
        "WY = np.dot(W,Y)\n",
        "print (WY)"
      ],
      "execution_count": null,
      "outputs": [
        {
          "output_type": "stream",
          "name": "stdout",
          "text": [
            "[[ 1  5 -6]\n",
            " [ 2  6 -4]\n",
            " [ 3  5  2]]\n"
          ]
        }
      ]
    },
    {
      "cell_type": "code",
      "metadata": {
        "colab": {
          "base_uri": "https://localhost:8080/"
        },
        "id": "AH11vhyLDEpr",
        "outputId": "0cf289ed-7314-4613-8f83-e2c26d5dba5a"
      },
      "source": [
        "#b. Z + Z\n",
        "print (Z + Z)"
      ],
      "execution_count": null,
      "outputs": [
        {
          "output_type": "stream",
          "name": "stdout",
          "text": [
            "[[0 2]\n",
            " [4 6]]\n"
          ]
        }
      ]
    },
    {
      "cell_type": "code",
      "metadata": {
        "colab": {
          "base_uri": "https://localhost:8080/"
        },
        "id": "zsbVaLEtEWGJ",
        "outputId": "7d4314b5-8026-4679-923c-85493ca00135"
      },
      "source": [
        "#c. 3X\n",
        "C= np.multiply(3,X)\n",
        "print(C)"
      ],
      "execution_count": null,
      "outputs": [
        {
          "output_type": "stream",
          "name": "stdout",
          "text": [
            "[[ 9  6  3]\n",
            " [-3  6  9]\n",
            " [ 6 -3  3]]\n"
          ]
        }
      ]
    },
    {
      "cell_type": "markdown",
      "metadata": {
        "id": "EoZSHx2sFBw6"
      },
      "source": [
        "#PROBLEM 2"
      ]
    },
    {
      "cell_type": "code",
      "metadata": {
        "colab": {
          "base_uri": "https://localhost:8080/"
        },
        "id": "RC3PP6BRFDMm",
        "outputId": "d3e1a701-f82b-468f-cda0-92708fa5f4bc"
      },
      "source": [
        "#a. The product (YW)^2 is not defined\n",
        "YW = np.dot(Y,W)\n",
        "print (np.square(YW))\n",
        "\n",
        "if YW is None:\n",
        "    print(\"The statement is TRUE\")\n",
        "else:\n",
        "    print(\"The statement is FALSE\")\n",
        "\n",
        "#The matrix is defined, therefore the statement is FALSE"
      ],
      "execution_count": 49,
      "outputs": [
        {
          "output_type": "stream",
          "name": "stdout",
          "text": [
            "[[25 49]\n",
            " [16 16]]\n",
            "The statement is FALSE\n"
          ]
        }
      ]
    },
    {
      "cell_type": "code",
      "metadata": {
        "colab": {
          "base_uri": "https://localhost:8080/"
        },
        "id": "3-r2WCu5IsGy",
        "outputId": "11d29016-f0be-4d1c-a007-63157f97e022"
      },
      "source": [
        "#b. WY - X = \n",
        "A = np.dot(W,Y)\n",
        "b = A - X\n",
        "print (b)\n",
        "\n",
        "x = np.array ([[-2,3,-7],[3,4,-7],[1,6,1]])\n",
        "\n",
        "if (np.array_equiv(x,b)):\n",
        "  print(\"The statement is TRUE\")\n",
        "else:\n",
        "  print(\"The statement is FALSE\")\n",
        "\n",
        "#The statement is TRUE"
      ],
      "execution_count": 57,
      "outputs": [
        {
          "output_type": "stream",
          "name": "stdout",
          "text": [
            "[[-2  3 -7]\n",
            " [ 3  4 -7]\n",
            " [ 1  6  1]]\n",
            "The statement is TRUE\n"
          ]
        }
      ]
    },
    {
      "cell_type": "code",
      "metadata": {
        "colab": {
          "base_uri": "https://localhost:8080/"
        },
        "id": "lPIbnVsrO0cO",
        "outputId": "a711c7db-489b-4880-b513-9cc09673a918"
      },
      "source": [
        "#c. YW – Z^2 =\n",
        "YW = np.dot(Y,W)\n",
        "c = YW - np.square(Z)\n",
        "print (c)\n",
        "\n",
        "z = np.array ([[5,-9],[0,2]])\n",
        "\n",
        "if (np.array_equiv(z,c)):\n",
        "  print(\"The statement is TRUE\")\n",
        "else:\n",
        "  print(\"The statement is FALSE\")\n",
        "#The statement is FALSE"
      ],
      "execution_count": 59,
      "outputs": [
        {
          "output_type": "stream",
          "name": "stdout",
          "text": [
            "[[ 5 -8]\n",
            " [ 0 -5]]\n",
            "The statement is FALSE\n"
          ]
        }
      ]
    }
  ]
}