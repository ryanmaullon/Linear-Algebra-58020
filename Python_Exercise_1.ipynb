{
  "nbformat": 4,
  "nbformat_minor": 0,
  "metadata": {
    "colab": {
      "name": "Python Exercise 1.ipynb",
      "provenance": [],
      "collapsed_sections": [],
      "authorship_tag": "ABX9TyM/aBDIaqbNcJfgIFdHe9Ae",
      "include_colab_link": true
    },
    "kernelspec": {
      "name": "python3",
      "display_name": "Python 3"
    },
    "language_info": {
      "name": "python"
    }
  },
  "cells": [
    {
      "cell_type": "markdown",
      "metadata": {
        "id": "view-in-github",
        "colab_type": "text"
      },
      "source": [
        "<a href=\"https://colab.research.google.com/github/ryanmaullon/Linear-Algebra-58020/blob/main/Python_Exercise_1.ipynb\" target=\"_parent\"><img src=\"https://colab.research.google.com/assets/colab-badge.svg\" alt=\"Open In Colab\"/></a>"
      ]
    },
    {
      "cell_type": "markdown",
      "metadata": {
        "id": "TqIdLevgK08h"
      },
      "source": [
        "#Matrix and Its Operations"
      ]
    },
    {
      "cell_type": "code",
      "metadata": {
        "colab": {
          "base_uri": "https://localhost:8080/"
        },
        "id": "RTRXyRgXK3lT",
        "outputId": "61db7073-cdb2-4f3a-c9c1-1cffed0612fc"
      },
      "source": [
        "import numpy as np\n",
        "\n",
        "A = np.array ([[-5,0],[4,1]])\n",
        "B = np.array ([[6,-3],[2,3]])\n",
        "\n",
        "#ADDITION OPERATION\n",
        "print (A+B, \" = A + B\", \"\\n\")\n",
        "\n",
        "#SUBTRACTION 1\n",
        "print (A-B, \" = A - B\", \"\\n\")\n",
        "\n",
        "#SUBTRACTION 2\n",
        "print (B-B, \" = B - B\", \"\\n\")\n",
        "\n"
      ],
      "execution_count": 13,
      "outputs": [
        {
          "output_type": "stream",
          "name": "stdout",
          "text": [
            "[[ 1 -3]\n",
            " [ 6  4]]  = A + B \n",
            "\n",
            "[[-11   3]\n",
            " [  2  -2]]  = A - B \n",
            "\n",
            "[[0 0]\n",
            " [0 0]]  = B - B \n",
            "\n"
          ]
        }
      ]
    }
  ]
}