{
  "nbformat": 4,
  "nbformat_minor": 0,
  "metadata": {
    "colab": {
      "name": "Python Exercise 3.ipynb",
      "provenance": [],
      "authorship_tag": "ABX9TyPfNUdbbGYTvJjOoTxjuwHy",
      "include_colab_link": true
    },
    "kernelspec": {
      "name": "python3",
      "display_name": "Python 3"
    },
    "language_info": {
      "name": "python"
    }
  },
  "cells": [
    {
      "cell_type": "markdown",
      "metadata": {
        "id": "view-in-github",
        "colab_type": "text"
      },
      "source": [
        "<a href=\"https://colab.research.google.com/github/ryanmaullon/Linear-Algebra-58020/blob/main/Python_Exercise_3.ipynb\" target=\"_parent\"><img src=\"https://colab.research.google.com/assets/colab-badge.svg\" alt=\"Open In Colab\"/></a>"
      ]
    },
    {
      "cell_type": "markdown",
      "metadata": {
        "id": "b5HAuaDElDnR"
      },
      "source": [
        "#Linear Transformation"
      ]
    },
    {
      "cell_type": "code",
      "metadata": {
        "colab": {
          "base_uri": "https://localhost:8080/"
        },
        "id": "P0dGM4i_lFSU",
        "outputId": "dbfbbb4f-9480-4efd-9e54-88af7ac5b090"
      },
      "source": [
        "import numpy as np\n",
        "\n",
        "#creating the given matrix\n",
        "A = np.array([[1,1,1],[1,2,2],[1,2,3]])\n",
        "print (A, \"\\n\")\n",
        "inv_A = np.linalg.inv(A)\n",
        "B = np.array([[5],[6],[8]])\n",
        "\n",
        "\n",
        "#AA^-1X = B.A^-1\n",
        "X = np.dot(inv_A,B)\n",
        "print (X)"
      ],
      "execution_count": 7,
      "outputs": [
        {
          "output_type": "stream",
          "name": "stdout",
          "text": [
            "[[1 1 1]\n",
            " [1 2 2]\n",
            " [1 2 3]] \n",
            "\n",
            "[[ 4.]\n",
            " [-1.]\n",
            " [ 2.]]\n"
          ]
        }
      ]
    }
  ]
}