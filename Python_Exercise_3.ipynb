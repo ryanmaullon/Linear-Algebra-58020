{
  "nbformat": 4,
  "nbformat_minor": 0,
  "metadata": {
    "colab": {
      "name": "Python_Exercise_3.ipynb",
      "provenance": [],
      "collapsed_sections": [
        "7LkeFkjXEDQo"
      ],
      "authorship_tag": "ABX9TyOhRN3jHEOChbyHbXM9SGfc",
      "include_colab_link": true
    },
    "kernelspec": {
      "name": "python3",
      "display_name": "Python 3"
    },
    "language_info": {
      "name": "python"
    }
  },
  "cells": [
    {
      "cell_type": "markdown",
      "metadata": {
        "id": "view-in-github",
        "colab_type": "text"
      },
      "source": [
        "<a href=\"https://colab.research.google.com/github/ryanmaullon/Linear-Algebra-58020/blob/main/Python_Exercise_3.ipynb\" target=\"_parent\"><img src=\"https://colab.research.google.com/assets/colab-badge.svg\" alt=\"Open In Colab\"/></a>"
      ]
    },
    {
      "cell_type": "markdown",
      "metadata": {
        "id": "7LkeFkjXEDQo"
      },
      "source": [
        "#Python program for Inverse and Transpose of Matrices"
      ]
    },
    {
      "cell_type": "code",
      "metadata": {
        "id": "AfUObAvEd2we"
      },
      "source": [
        "import numpy as np\n",
        "\n",
        "#Converting decimal values into fraction\n",
        "import fractions\n",
        "np.set_printoptions(formatter={'all':lambda x: str(fractions.Fraction(x).limit_denominator())})"
      ],
      "execution_count": 3,
      "outputs": []
    },
    {
      "cell_type": "markdown",
      "metadata": {
        "id": "rFsVt2rFENm3"
      },
      "source": [
        "#3x3 Matrix and its Inverse and Transpose"
      ]
    },
    {
      "cell_type": "code",
      "metadata": {
        "colab": {
          "base_uri": "https://localhost:8080/"
        },
        "id": "NK9EEFdPEMDu",
        "outputId": "c687a096-855f-4c54-a0a1-fd9a20e7447c"
      },
      "source": [
        "#Creating 3x3 array\n",
        "A = np.array([[6,1,1],[4,-2,5],[2,8,7]])\n",
        "print(A, \"\\n\")\n",
        "\n",
        "#Condition for inverse if the given matrix has 0 determinent or not\n",
        "if (np.linalg.det(A)):\n",
        "    #Inverse matrix using linalg.inv function\n",
        "    A_inverse = (np.linalg.inv(A))\n",
        "    print(\"INVERSE \\n\", A_inverse, \"\\n\")\n",
        "else:\n",
        "    print(\"Cannot be inverse, Singular Matrix\")\n",
        "\n",
        "#Transpose matrix using transpose method\n",
        "A_transpose = A.transpose()\n",
        "print (\"TRANSPOSE \\n\", A_transpose)\n"
      ],
      "execution_count": 43,
      "outputs": [
        {
          "output_type": "stream",
          "name": "stdout",
          "text": [
            "[[6 1 1]\n",
            " [4 -2 5]\n",
            " [2 8 7]] \n",
            "\n",
            "INVERSE \n",
            " [[3/17 -1/306 -7/306]\n",
            " [1/17 -20/153 13/153]\n",
            " [-2/17 23/153 8/153]] \n",
            "\n",
            "TRANSPOSE \n",
            " [[6 4 2]\n",
            " [1 -2 8]\n",
            " [1 5 7]]\n"
          ]
        }
      ]
    },
    {
      "cell_type": "markdown",
      "metadata": {
        "id": "jn1FWEUPF_8z"
      },
      "source": [
        "#4x4 Matrix and its Inverse and Transpose"
      ]
    },
    {
      "cell_type": "code",
      "metadata": {
        "colab": {
          "base_uri": "https://localhost:8080/"
        },
        "id": "wgZPtU0zF_q6",
        "outputId": "df221193-e58f-49ca-c86b-9a1ea953cd2a"
      },
      "source": [
        "#Creating 4x4 array\n",
        "##The given matrix is Singular Matrix which has a determinant of 0 therefore it cannot be inversed\n",
        "B = np.arange(1,17).reshape(4, 4)\n",
        "print (B)\n",
        "\n",
        "#Condition for inverse if the given matrix has 0 determinent or not\n",
        "if (np.linalg.det(B)):\n",
        "   #Inverse matrix using linalg.inv function\n",
        "    B_inverse = (np.linalg.inv(B))\n",
        "    print(\"INVERSE \\n\", B_inverse)\n",
        "else:\n",
        "    print(\"Cannot be inverse, Singular Matrix\")\n",
        "\n",
        "\n",
        "#Transpose matrix using transpose method\n",
        "B_transpose = B.transpose()\n",
        "print (\"\\nTRANSPOSE \\n\", B_transpose)\n"
      ],
      "execution_count": 40,
      "outputs": [
        {
          "output_type": "stream",
          "name": "stdout",
          "text": [
            "[[1 2 3 4]\n",
            " [5 6 7 8]\n",
            " [9 10 11 12]\n",
            " [13 14 15 16]]\n",
            "Cannot be inverse, Singular Matrix\n",
            "\n",
            "TRANSPOSE \n",
            " [[1 5 9 13]\n",
            " [2 6 10 14]\n",
            " [3 7 11 15]\n",
            " [4 8 12 16]]\n"
          ]
        }
      ]
    }
  ]
}