{
  "nbformat": 4,
  "nbformat_minor": 0,
  "metadata": {
    "colab": {
      "name": "Midterm Exam.ipynb",
      "provenance": [],
      "collapsed_sections": [],
      "authorship_tag": "ABX9TyN7tF8RLBiWrOPSGTPhI+IS",
      "include_colab_link": true
    },
    "kernelspec": {
      "name": "python3",
      "display_name": "Python 3"
    },
    "language_info": {
      "name": "python"
    }
  },
  "cells": [
    {
      "cell_type": "markdown",
      "metadata": {
        "id": "view-in-github",
        "colab_type": "text"
      },
      "source": [
        "<a href=\"https://colab.research.google.com/github/ryanmaullon/Linear-Algebra-58020/blob/main/Midterm_Exam.ipynb\" target=\"_parent\"><img src=\"https://colab.research.google.com/assets/colab-badge.svg\" alt=\"Open In Colab\"/></a>"
      ]
    },
    {
      "cell_type": "markdown",
      "metadata": {
        "id": "q-syrJmz5AI1"
      },
      "source": [
        "#Midterm Exam"
      ]
    },
    {
      "cell_type": "code",
      "metadata": {
        "colab": {
          "base_uri": "https://localhost:8080/"
        },
        "id": "nf70CP3j4nbk",
        "outputId": "d3d191c9-c91d-4aa6-f80a-580444fdcfbc"
      },
      "source": [
        "import numpy as np\n",
        "\n",
        "#Question 1  Create a Python code that displays a square matrix whose length is 5 (10 points)\n",
        "#arranging number range from 1-26, reshape to 5x5 matrix\n",
        "np.arange(1, 26).reshape(5,5)"
      ],
      "execution_count": 14,
      "outputs": [
        {
          "output_type": "execute_result",
          "data": {
            "text/plain": [
              "array([[ 1,  2,  3,  4,  5],\n",
              "       [ 6,  7,  8,  9, 10],\n",
              "       [11, 12, 13, 14, 15],\n",
              "       [16, 17, 18, 19, 20],\n",
              "       [21, 22, 23, 24, 25]])"
            ]
          },
          "metadata": {},
          "execution_count": 14
        }
      ]
    },
    {
      "cell_type": "code",
      "metadata": {
        "colab": {
          "base_uri": "https://localhost:8080/"
        },
        "id": "Xssrhrs-80W5",
        "outputId": "89056050-d049-4006-d9ce-c5c39c47a4a9"
      },
      "source": [
        "#Question 2 Create a Python code that displays a square matrix whose elements below the principal diagonal are zero (10 points)\n",
        "#numpy 3x3 upper triangle matrix where zero is below the principal diagonal\n",
        "#the diagonal int parameter is set to default (0)\n",
        "np.triu([[1,2,3],[4,5,6],[7,8,9]])"
      ],
      "execution_count": 56,
      "outputs": [
        {
          "output_type": "execute_result",
          "data": {
            "text/plain": [
              "array([[1, 2, 3],\n",
              "       [0, 5, 6],\n",
              "       [0, 0, 9]])"
            ]
          },
          "metadata": {},
          "execution_count": 56
        }
      ]
    },
    {
      "cell_type": "code",
      "metadata": {
        "colab": {
          "base_uri": "https://localhost:8080/"
        },
        "id": "iTjWHW3wAgGB",
        "outputId": "0cdf9cd9-1780-4e15-ca70-c842bc7125ae"
      },
      "source": [
        "#Question 3. Create a Python code that displays a square matrix which is symmetrical (10 points)\n",
        "#creating matrix\n",
        "S = np.array([[0,2,4],[-2,0,3],[-4,-3,0]])\n",
        "print (S, \"\\n\")\n",
        "\n",
        "#transpose function checking for symmetric matrix\n",
        "print(np.transpose(S))"
      ],
      "execution_count": 61,
      "outputs": [
        {
          "output_type": "stream",
          "name": "stdout",
          "text": [
            "[[ 0  2  4]\n",
            " [-2  0  3]\n",
            " [-4 -3  0]] \n",
            "\n",
            "[[ 0 -2 -4]\n",
            " [ 2  0 -3]\n",
            " [ 4  3  0]]\n"
          ]
        }
      ]
    },
    {
      "cell_type": "code",
      "metadata": {
        "colab": {
          "base_uri": "https://localhost:8080/"
        },
        "id": "QKg-tEWaBU_I",
        "outputId": "10c89b0c-8112-4b5e-fc3b-5aa340495a3a"
      },
      "source": [
        "#Question 4 What is the inverse of matrix C? Show your solution by python coding. (20 points)\n",
        "#Creating the given matrix\n",
        "C = np.array([[1,2,3],[2,3,3],[3,4,-2]])\n",
        "\n",
        "#Inversing the matrix C\n",
        "c = np.linalg.inv(C)\n",
        "print ('Matrix C\\n',C)\n",
        "print ('Inverse\\n',c)"
      ],
      "execution_count": 55,
      "outputs": [
        {
          "output_type": "stream",
          "name": "stdout",
          "text": [
            "Matrix C\n",
            " [[ 1  2  3]\n",
            " [ 2  3  3]\n",
            " [ 3  4 -2]]\n",
            "Inverse\n",
            " [[-3.6  3.2 -0.6]\n",
            " [ 2.6 -2.2  0.6]\n",
            " [-0.2  0.4 -0.2]]\n"
          ]
        }
      ]
    },
    {
      "cell_type": "code",
      "metadata": {
        "colab": {
          "base_uri": "https://localhost:8080/"
        },
        "id": "8BXwyBjRC7vJ",
        "outputId": "7af807e5-bc5c-45a1-f0a2-189fb707625a"
      },
      "source": [
        "#Question 5 What is the determinant of the given matrix in Question 4? Show your solution by python coding. (20 points)\n",
        "#linalg.det - numpy function for computing determinant\n",
        "#result without rounding off\n",
        "print ((np.linalg.det(C)))\n",
        "\n",
        "#round off result\n",
        "print (round(np.linalg.det(C)))"
      ],
      "execution_count": 54,
      "outputs": [
        {
          "output_type": "stream",
          "name": "stdout",
          "text": [
            "5.000000000000001\n",
            "5\n"
          ]
        }
      ]
    },
    {
      "cell_type": "code",
      "metadata": {
        "colab": {
          "base_uri": "https://localhost:8080/"
        },
        "id": "_JXmQpHXEahk",
        "outputId": "4eace4bf-e8e9-47ad-e30f-19e725465733"
      },
      "source": [
        "# Question 6 Find the roots of the linear equations by showing its python codes (30 points)\n",
        "#creating given matrix\n",
        "A = np.array([[5,4,1],[10,9,4],[10,13,15]])\n",
        "print (A)\n",
        "inv_A = np.linalg.inv(A)\n",
        "\n",
        "B = np.array([[3.4],[8.8],[19.2]])\n",
        "print (B)\n",
        "\n",
        "#AA^-1X = B.A^-1\n",
        "X = np.dot(inv_A,B)\n",
        "print (\"\\n roots of the linear equation \\n\", X)"
      ],
      "execution_count": 53,
      "outputs": [
        {
          "output_type": "stream",
          "name": "stdout",
          "text": [
            "[[ 5  4  1]\n",
            " [10  9  4]\n",
            " [10 13 15]]\n",
            "[[ 3.4]\n",
            " [ 8.8]\n",
            " [19.2]]\n",
            "\n",
            " roots of the linear equation \n",
            " [[0.2]\n",
            " [0.4]\n",
            " [0.8]]\n"
          ]
        }
      ]
    }
  ]
}