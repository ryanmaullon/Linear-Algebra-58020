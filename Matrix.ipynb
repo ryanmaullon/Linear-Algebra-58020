{
  "nbformat": 4,
  "nbformat_minor": 0,
  "metadata": {
    "colab": {
      "name": "Matrix.ipynb",
      "provenance": [],
      "authorship_tag": "ABX9TyMvWqJRhtd3w2DCLcwybM8f",
      "include_colab_link": true
    },
    "kernelspec": {
      "name": "python3",
      "display_name": "Python 3"
    },
    "language_info": {
      "name": "python"
    }
  },
  "cells": [
    {
      "cell_type": "markdown",
      "metadata": {
        "id": "view-in-github",
        "colab_type": "text"
      },
      "source": [
        "<a href=\"https://colab.research.google.com/github/ryanmaullon/Linear-Algebra-58020/blob/main/Matrix.ipynb\" target=\"_parent\"><img src=\"https://colab.research.google.com/assets/colab-badge.svg\" alt=\"Open In Colab\"/></a>"
      ]
    },
    {
      "cell_type": "markdown",
      "metadata": {
        "id": "dHSxqdlXBEVk"
      },
      "source": [
        "#Matrix and Its Operations"
      ]
    },
    {
      "cell_type": "code",
      "metadata": {
        "colab": {
          "base_uri": "https://localhost:8080/"
        },
        "id": "aVQz0Y4WBJDl",
        "outputId": "41b26652-8af4-4c69-dd2a-10c6af78883b"
      },
      "source": [
        "import numpy as np\n",
        "a = np.array ([1,2,3])\n",
        "print (a)"
      ],
      "execution_count": 1,
      "outputs": [
        {
          "output_type": "stream",
          "name": "stdout",
          "text": [
            "[1 2 3]\n"
          ]
        }
      ]
    },
    {
      "cell_type": "code",
      "metadata": {
        "colab": {
          "base_uri": "https://localhost:8080/"
        },
        "id": "gADkmFa_CGjA",
        "outputId": "cd6c05e6-c8dc-4476-b63f-b6b7000efcb5"
      },
      "source": [
        "b = np.array ([[1,2,3],[4,5,6]])\n",
        "print (b)"
      ],
      "execution_count": 5,
      "outputs": [
        {
          "output_type": "stream",
          "name": "stdout",
          "text": [
            "[[1 2 3]\n",
            " [4 5 6]]\n"
          ]
        }
      ]
    },
    {
      "cell_type": "code",
      "metadata": {
        "colab": {
          "base_uri": "https://localhost:8080/"
        },
        "id": "y1J-6YN2C8h9",
        "outputId": "261d3363-7eee-43e6-e089-26b136f6d3e9"
      },
      "source": [
        "c = np.array ([[1,2,3],[4,5,6],[7,8,9]])\n",
        "print (c)"
      ],
      "execution_count": 7,
      "outputs": [
        {
          "output_type": "stream",
          "name": "stdout",
          "text": [
            "[[1 2 3]\n",
            " [4 5 6]\n",
            " [7 8 9]]\n"
          ]
        }
      ]
    },
    {
      "cell_type": "code",
      "metadata": {
        "colab": {
          "base_uri": "https://localhost:8080/"
        },
        "id": "5406Wo78DFFq",
        "outputId": "aa97789a-b2ee-41b7-8e5e-b6bb2c8970d2"
      },
      "source": [
        "#create a constant array with all values are 6 \n",
        "d = np.full ((4,4),6) #This is an example of square matrix\n",
        "print (d)"
      ],
      "execution_count": 11,
      "outputs": [
        {
          "output_type": "stream",
          "name": "stdout",
          "text": [
            "[[6 6 6 6]\n",
            " [6 6 6 6]\n",
            " [6 6 6 6]\n",
            " [6 6 6 6]]\n"
          ]
        }
      ]
    },
    {
      "cell_type": "code",
      "metadata": {
        "colab": {
          "base_uri": "https://localhost:8080/"
        },
        "id": "z1n-YihYD5Nw",
        "outputId": "31e4b61f-0564-466b-cc9e-58b67bc69561"
      },
      "source": [
        "e = np.diagonal ([[1,2,3],[4,5,6],[7,8,9]])\n",
        "print (e)"
      ],
      "execution_count": 13,
      "outputs": [
        {
          "output_type": "stream",
          "name": "stdout",
          "text": [
            "[1 5 9]\n"
          ]
        }
      ]
    },
    {
      "cell_type": "code",
      "metadata": {
        "id": "3AXH2JbMEkoS"
      },
      "source": [
        "#Identity Matrix\n",
        "f = np.eye"
      ],
      "execution_count": null,
      "outputs": []
    },
    {
      "cell_type": "code",
      "metadata": {
        "colab": {
          "base_uri": "https://localhost:8080/"
        },
        "id": "8iyl4TqRFWB_",
        "outputId": "e90c1325-33bf-4a00-c886-eea2f550bafb"
      },
      "source": [
        "#Zero matrix\n",
        "g = np.zeros((6,5))\n",
        "print(g)"
      ],
      "execution_count": 15,
      "outputs": [
        {
          "output_type": "stream",
          "name": "stdout",
          "text": [
            "[[0. 0. 0. 0. 0.]\n",
            " [0. 0. 0. 0. 0.]\n",
            " [0. 0. 0. 0. 0.]\n",
            " [0. 0. 0. 0. 0.]\n",
            " [0. 0. 0. 0. 0.]\n",
            " [0. 0. 0. 0. 0.]]\n"
          ]
        }
      ]
    },
    {
      "cell_type": "code",
      "metadata": {
        "colab": {
          "base_uri": "https://localhost:8080/"
        },
        "id": "UAr7AB7mFg_k",
        "outputId": "8dca8f66-f047-46f8-b50a-d327a3899fa9"
      },
      "source": [
        "#Empty Matrix\n",
        "h = np.empty ((0,5))\n",
        "print (h)"
      ],
      "execution_count": 17,
      "outputs": [
        {
          "output_type": "stream",
          "name": "stdout",
          "text": [
            "[]\n"
          ]
        }
      ]
    },
    {
      "cell_type": "code",
      "metadata": {
        "colab": {
          "base_uri": "https://localhost:8080/"
        },
        "id": "7mhC9ym5F50C",
        "outputId": "a6fbee7c-da59-4d24-cffc-0ee5514b4748"
      },
      "source": [
        "#Addition Matrix\n",
        "i = np.array ([[1,2,3],[4,5,6],[7,8,9]])\n",
        "j = np.zeros ((3,3))\n",
        "print (i+j)"
      ],
      "execution_count": 19,
      "outputs": [
        {
          "output_type": "stream",
          "name": "stdout",
          "text": [
            "[[1. 2. 3.]\n",
            " [4. 5. 6.]\n",
            " [7. 8. 9.]]\n"
          ]
        }
      ]
    },
    {
      "cell_type": "code",
      "metadata": {
        "colab": {
          "base_uri": "https://localhost:8080/"
        },
        "id": "EqeYYpZ8G3CE",
        "outputId": "8766dab1-c6f4-4a88-dac3-08d05d49d889"
      },
      "source": [
        "#Subtraction Matrix\n",
        "i = np.array ([[1,2,3],[4,5,6]])\n",
        "j = np.array ([[3,4,5],[6,7,8]])\n",
        "print (i-j)"
      ],
      "execution_count": 20,
      "outputs": [
        {
          "output_type": "stream",
          "name": "stdout",
          "text": [
            "[[-2 -2 -2]\n",
            " [-2 -2 -2]]\n"
          ]
        }
      ]
    }
  ]
}