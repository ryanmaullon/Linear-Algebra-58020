{
  "nbformat": 4,
  "nbformat_minor": 0,
  "metadata": {
    "colab": {
      "name": "Prelim Exam.ipynb",
      "provenance": [],
      "collapsed_sections": [],
      "authorship_tag": "ABX9TyOFW4FTke/nCbyci3+8EpqS",
      "include_colab_link": true
    },
    "kernelspec": {
      "name": "python3",
      "display_name": "Python 3"
    },
    "language_info": {
      "name": "python"
    }
  },
  "cells": [
    {
      "cell_type": "markdown",
      "metadata": {
        "id": "view-in-github",
        "colab_type": "text"
      },
      "source": [
        "<a href=\"https://colab.research.google.com/github/ryanmaullon/Linear-Algebra-58020/blob/main/Prelim_Exam.ipynb\" target=\"_parent\"><img src=\"https://colab.research.google.com/assets/colab-badge.svg\" alt=\"Open In Colab\"/></a>"
      ]
    },
    {
      "cell_type": "markdown",
      "metadata": {
        "id": "su-CVy28hp-w"
      },
      "source": [
        "#Prelim Exam"
      ]
    },
    {
      "cell_type": "code",
      "metadata": {
        "id": "Gq0368tOix9q"
      },
      "source": [
        "import numpy as np"
      ],
      "execution_count": 4,
      "outputs": []
    },
    {
      "cell_type": "markdown",
      "metadata": {
        "id": "tUNf69T7h2iR"
      },
      "source": [
        "Question 1. (20 points) Create a 4 x 4 matrix whose diagonal elements are all one (1's). Name it as matrix \"C\". Show your solutions using Python codes and do not forget to label them on the Text Cell."
      ]
    },
    {
      "cell_type": "code",
      "metadata": {
        "colab": {
          "base_uri": "https://localhost:8080/"
        },
        "id": "SQeEMksVk8Ds",
        "outputId": "35e6b174-8b81-4b92-9c2b-23cf0024a5d6"
      },
      "source": [
        "#Creating Matrix C\n",
        "C = np.diag([1,1,1,1])\n",
        "print (\"Matrix C\\n\",C)"
      ],
      "execution_count": 31,
      "outputs": [
        {
          "output_type": "stream",
          "name": "stdout",
          "text": [
            "Matrix C\n",
            " [[1 0 0 0]\n",
            " [0 1 0 0]\n",
            " [0 0 1 0]\n",
            " [0 0 0 1]]\n"
          ]
        }
      ]
    },
    {
      "cell_type": "markdown",
      "metadata": {
        "id": "ciXM2dsEifr0"
      },
      "source": [
        "Question 2. (20 points) In relation to Question 1, show a solution that doubles all the values of each element. Show your solutions using Python codes and do not forget to label them on the Text Cell."
      ]
    },
    {
      "cell_type": "code",
      "metadata": {
        "colab": {
          "base_uri": "https://localhost:8080/"
        },
        "id": "gJcjEJJBsG2D",
        "outputId": "23a95241-7a7f-44a5-dbf2-d1ac42fe65af"
      },
      "source": [
        "#Creating Matrix C\n",
        "C = np.diag([1,1,1,1])\n",
        "\n",
        "#Doubling the value by 2\n",
        "print (C * 2)"
      ],
      "execution_count": 30,
      "outputs": [
        {
          "output_type": "stream",
          "name": "stdout",
          "text": [
            "[[2 0 0 0]\n",
            " [0 2 0 0]\n",
            " [0 0 2 0]\n",
            " [0 0 0 2]]\n"
          ]
        }
      ]
    },
    {
      "cell_type": "markdown",
      "metadata": {
        "id": "ExSZUw49igRI"
      },
      "source": [
        "Question 3. (10 points) Find the cross-product of matrices, A = [2,7,4] and\n",
        "\n",
        "B = [3,9,8]. Show your solutions using Python codes and do not forget to label them on the Text Cell."
      ]
    },
    {
      "cell_type": "code",
      "metadata": {
        "colab": {
          "base_uri": "https://localhost:8080/"
        },
        "id": "q1i6zN4ihlFZ",
        "outputId": "db9beded-15d3-4a2a-d424-3ec4139e3bb9"
      },
      "source": [
        "#Given Matrices A and B\n",
        "A = np.array([2,7,4])\n",
        "B = np.array([3,9,8])\n",
        "\n",
        "#Computing for Cross Product\n",
        "answer = np.cross(A,B)\n",
        "print(answer)"
      ],
      "execution_count": 29,
      "outputs": [
        {
          "output_type": "stream",
          "name": "stdout",
          "text": [
            "[20 -4 -3]\n"
          ]
        }
      ]
    }
  ]
}