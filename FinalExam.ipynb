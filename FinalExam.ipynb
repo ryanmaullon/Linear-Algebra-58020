{
  "nbformat": 4,
  "nbformat_minor": 0,
  "metadata": {
    "colab": {
      "name": "FinalExam.ipynb",
      "provenance": [],
      "authorship_tag": "ABX9TyNPq+5ZrqRIbEj/03QUHGMH",
      "include_colab_link": true
    },
    "kernelspec": {
      "name": "python3",
      "display_name": "Python 3"
    },
    "language_info": {
      "name": "python"
    }
  },
  "cells": [
    {
      "cell_type": "markdown",
      "metadata": {
        "id": "view-in-github",
        "colab_type": "text"
      },
      "source": [
        "<a href=\"https://colab.research.google.com/github/ryanmaullon/Linear-Algebra-58020/blob/main/FinalExam.ipynb\" target=\"_parent\"><img src=\"https://colab.research.google.com/assets/colab-badge.svg\" alt=\"Open In Colab\"/></a>"
      ]
    },
    {
      "cell_type": "markdown",
      "source": [
        "#Final Exam"
      ],
      "metadata": {
        "id": "1TzXvutnKD_0"
      }
    },
    {
      "cell_type": "code",
      "source": [
        "import numpy as np"
      ],
      "metadata": {
        "id": "kcO0jlquNbqb"
      },
      "execution_count": 3,
      "outputs": []
    },
    {
      "cell_type": "code",
      "source": [
        "# Problem 1. Student A, Student B, and Student C have a total of Php 89 cash in their banks. Student A has 6 less than Student C. \n",
        "# Student B has 3 times what Student C has. How much does each student have? (30 points)\n",
        "# A + B + C = 89\n",
        "# A = C - 6\n",
        "# B = 3C\n",
        "\n",
        "A = np.array([[1,1,1],[1,0,4],[0,0,5]])\n",
        "B = np.array([[89],[89],[95]])\n",
        "x = np.linalg.inv(A).dot(B)\n",
        "print(\"Student's money as follow (A,B,C): \\n\", x)\n"
      ],
      "metadata": {
        "colab": {
          "base_uri": "https://localhost:8080/"
        },
        "id": "WxKlxMlSKHQx",
        "outputId": "0f2a995e-2f59-44fc-aa6a-745c2f18f5d4"
      },
      "execution_count": 45,
      "outputs": [
        {
          "output_type": "stream",
          "name": "stdout",
          "text": [
            "Student's money as follow (A,B,C): \n",
            " [[13.]\n",
            " [57.]\n",
            " [19.]]\n"
          ]
        }
      ]
    },
    {
      "cell_type": "code",
      "source": [
        "A = np.array([[3,-1,1],[9,-3,3],[-12,4,-4]])\n",
        "print (A, \"\\n\")\n",
        "B = np.array([[5],[15],[-20]])\n",
        "print (B, \"\\n\")\n",
        "\n",
        "#NOTE: If the determinant of a matrix is zero, then the linear system of equations it represents has no solution\n",
        "\n",
        "#CHECKING OF THE GIVEN MATRIX IF SINGULAR OR NON SINGULAR\n",
        "if (np.linalg.det(A)):\n",
        "    print(\"Non Singular matrix\")\n",
        "    print (\"determinant: \", np.linalg.det(A))\n",
        "else:\n",
        "    print(\"Singular Matrix\")\n",
        "    print (\"determinant: \", np.linalg.det(A))"
      ],
      "metadata": {
        "colab": {
          "base_uri": "https://localhost:8080/"
        },
        "id": "Z-qgA-goO-lX",
        "outputId": "c24e527b-f8e2-47da-8077-bc79f826a1d4"
      },
      "execution_count": 43,
      "outputs": [
        {
          "output_type": "stream",
          "name": "stdout",
          "text": [
            "[[  3  -1   1]\n",
            " [  9  -3   3]\n",
            " [-12   4  -4]] \n",
            "\n",
            "[[  5]\n",
            " [ 15]\n",
            " [-20]] \n",
            "\n",
            "Singular Matrix\n",
            "determinant:  0.0\n"
          ]
        }
      ]
    },
    {
      "cell_type": "code",
      "source": [
        "#Problem 3. Consider the matrix, (40 points) Find the eigenvalue/s Find the eigenvectors\n",
        "A = np.array([[8,5,-6],[-12,-9,12],[-3,-3,5]])\n",
        "print(A)\n",
        "\n",
        "w,v = np.linalg.eig(A)\n",
        "print(\"\\nThe eigenvalues are:\",w)\n",
        "print(\"The eigenvectors are:\",v)\n",
        "\n",
        "x = v.round(2)\n",
        "print(\"\\n Eigenvectors round off: \\n\", x)"
      ],
      "metadata": {
        "colab": {
          "base_uri": "https://localhost:8080/"
        },
        "id": "kZ2K9Wg2SFvG",
        "outputId": "02f6cd8d-95e9-469f-98a7-346dcee8b946"
      },
      "execution_count": 42,
      "outputs": [
        {
          "output_type": "stream",
          "name": "stdout",
          "text": [
            "[[  8   5  -6]\n",
            " [-12  -9  12]\n",
            " [ -3  -3   5]]\n",
            "\n",
            "The eigenvalues are: [-1.  3.  2.]\n",
            "The eigenvectors are: [[ 3.01511345e-01 -7.07106781e-01  7.07106781e-01]\n",
            " [-9.04534034e-01  7.07106781e-01  1.53837015e-15]\n",
            " [-3.01511345e-01 -2.26120075e-15  7.07106781e-01]]\n",
            "\n",
            " Eigenvectors round off: \n",
            " [[ 0.3  -0.71  0.71]\n",
            " [-0.9   0.71  0.  ]\n",
            " [-0.3  -0.    0.71]]\n"
          ]
        }
      ]
    }
  ]
}